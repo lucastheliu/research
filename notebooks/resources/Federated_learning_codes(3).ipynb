{
  "nbformat": 4,
  "nbformat_minor": 0,
  "metadata": {
    "colab": {
      "provenance": [],
      "gpuType": "T4"
    },
    "kernelspec": {
      "name": "python3",
      "display_name": "Python 3"
    },
    "language_info": {
      "name": "python"
    },
    "accelerator": "GPU"
  },
  "cells": [
    {
      "cell_type": "markdown",
      "source": [
        "## Attack in deep learning\n",
        "\n",
        "\n",
        "*   This code is dedicated to the attack (recover) of data from trained model\n",
        "\n"
      ],
      "metadata": {
        "id": "A1ymzHYXbV9g"
      }
    },
    {
      "cell_type": "code",
      "execution_count": null,
      "metadata": {
        "id": "evCq9wFKXf6d"
      },
      "outputs": [],
      "source": [
        "import numpy as np\n",
        "import torch\n",
        "import torch.nn as nn\n",
        "import torch.optim as optim\n",
        "import torchvision\n",
        "import torchvision.transforms as transforms\n",
        "import matplotlib.pyplot as plt\n",
        "from torch.utils.data import DataLoader"
      ]
    },
    {
      "cell_type": "markdown",
      "source": [
        "# Code for training"
      ],
      "metadata": {
        "id": "6DlI601tcj9W"
      }
    },
    {
      "cell_type": "code",
      "source": [
        "# Set random seed for reproducibility\n",
        "torch.manual_seed(42)\n",
        "device = torch.device(\"cuda:0\" if torch.cuda.is_available() else \"cpu\")\n",
        "\n",
        "# Define a simple neural network for MNIST\n",
        "class MNISTModel(nn.Module):\n",
        "    def __init__(self):\n",
        "        super(MNISTModel, self).__init__()\n",
        "        self.flatten = nn.Flatten()\n",
        "        self.fc1 = nn.Linear(28 * 28, 128)\n",
        "        self.relu1 = nn.ReLU()\n",
        "        self.fc2 = nn.Linear(128, 64)\n",
        "        self.relu2 = nn.ReLU()\n",
        "        self.fc3 = nn.Linear(64, 10)\n",
        "        self.softmax = nn.Softmax(dim=1)\n",
        "\n",
        "    def forward(self, x):\n",
        "        x = self.flatten(x)\n",
        "        x = self.relu1(self.fc1(x))\n",
        "        x = self.relu2(self.fc2(x))\n",
        "        x = self.softmax(self.fc3(x))\n",
        "        return x\n",
        "\n",
        "# Load and preprocess MNIST data\n",
        "def load_data():\n",
        "    transform = transforms.Compose([\n",
        "        transforms.ToTensor()\n",
        "    ])\n",
        "\n",
        "    train_dataset = torchvision.datasets.MNIST(\n",
        "        root='./data',\n",
        "        train=True,\n",
        "        download=True,\n",
        "        transform=transform\n",
        "    )\n",
        "\n",
        "    test_dataset = torchvision.datasets.MNIST(\n",
        "        root='./data',\n",
        "        train=False,\n",
        "        download=True,\n",
        "        transform=transform\n",
        "    )\n",
        "\n",
        "    train_loader = DataLoader(\n",
        "        train_dataset,\n",
        "        batch_size=64,\n",
        "        shuffle=True\n",
        "    )\n",
        "\n",
        "    test_loader = DataLoader(\n",
        "        test_dataset,\n",
        "        batch_size=64,\n",
        "        shuffle=False\n",
        "    )\n",
        "\n",
        "    return train_loader, test_loader, train_dataset, test_dataset\n",
        "\n",
        "# Train the model\n",
        "def train_model(model, train_loader, epochs=5):\n",
        "    model = model().to(device)\n",
        "    criterion = nn.CrossEntropyLoss()\n",
        "    optimizer = optim.Adam(model.parameters(), lr=0.001)\n",
        "\n",
        "    model.train()\n",
        "    for epoch in range(epochs):\n",
        "        running_loss = 0.0\n",
        "        correct = 0\n",
        "        total = 0\n",
        "\n",
        "        for i, (inputs, labels) in enumerate(train_loader):\n",
        "            inputs, labels = inputs.to(device), labels.to(device)\n",
        "\n",
        "            optimizer.zero_grad()\n",
        "\n",
        "            outputs = model(inputs)\n",
        "            _, predicted = torch.max(outputs.data, 1)\n",
        "            total += labels.size(0)\n",
        "            correct += (predicted == labels).sum().item()\n",
        "\n",
        "            # Calculate loss using raw logits (before softmax)\n",
        "            loss = criterion(model.fc3(model.relu2(model.fc2(model.relu1(model.fc1(model.flatten(inputs)))))), labels)\n",
        "            loss.backward()\n",
        "            optimizer.step()\n",
        "\n",
        "            running_loss += loss.item()\n",
        "\n",
        "            if i % 100 == 99:\n",
        "                print(f'Epoch {epoch+1}, Batch {i+1}, Loss: {running_loss/100:.4f}, Accuracy: {100*correct/total:.2f}%')\n",
        "                running_loss = 0.0\n",
        "\n",
        "        print(f'Epoch {epoch+1} completed, Accuracy: {100*correct/total:.2f}%')\n",
        "\n",
        "    print('Training completed!')\n",
        "    return model"
      ],
      "metadata": {
        "id": "i49Ypvp5ch0S"
      },
      "execution_count": null,
      "outputs": []
    },
    {
      "cell_type": "code",
      "source": [
        "# Load data\n",
        "train_loader, test_loader, train_dataset, test_dataset = load_data()\n",
        "\n",
        "# Train model\n",
        "print(\"Training model...\")\n",
        "model = train_model(MNISTModel, train_loader)"
      ],
      "metadata": {
        "colab": {
          "base_uri": "https://localhost:8080/"
        },
        "id": "gvVungOXaT1A",
        "outputId": "dc015b69-ca38-4a56-a083-27aab1dcff97"
      },
      "execution_count": null,
      "outputs": [
        {
          "output_type": "stream",
          "name": "stdout",
          "text": [
            "Downloading http://yann.lecun.com/exdb/mnist/train-images-idx3-ubyte.gz\n",
            "Failed to download (trying next):\n",
            "HTTP Error 404: Not Found\n",
            "\n",
            "Downloading https://ossci-datasets.s3.amazonaws.com/mnist/train-images-idx3-ubyte.gz\n",
            "Downloading https://ossci-datasets.s3.amazonaws.com/mnist/train-images-idx3-ubyte.gz to ./data/MNIST/raw/train-images-idx3-ubyte.gz\n"
          ]
        },
        {
          "output_type": "stream",
          "name": "stderr",
          "text": [
            "100%|██████████| 9.91M/9.91M [00:00<00:00, 18.1MB/s]\n"
          ]
        },
        {
          "output_type": "stream",
          "name": "stdout",
          "text": [
            "Extracting ./data/MNIST/raw/train-images-idx3-ubyte.gz to ./data/MNIST/raw\n",
            "\n",
            "Downloading http://yann.lecun.com/exdb/mnist/train-labels-idx1-ubyte.gz\n",
            "Failed to download (trying next):\n",
            "HTTP Error 404: Not Found\n",
            "\n",
            "Downloading https://ossci-datasets.s3.amazonaws.com/mnist/train-labels-idx1-ubyte.gz\n",
            "Downloading https://ossci-datasets.s3.amazonaws.com/mnist/train-labels-idx1-ubyte.gz to ./data/MNIST/raw/train-labels-idx1-ubyte.gz\n"
          ]
        },
        {
          "output_type": "stream",
          "name": "stderr",
          "text": [
            "100%|██████████| 28.9k/28.9k [00:00<00:00, 490kB/s]\n"
          ]
        },
        {
          "output_type": "stream",
          "name": "stdout",
          "text": [
            "Extracting ./data/MNIST/raw/train-labels-idx1-ubyte.gz to ./data/MNIST/raw\n",
            "\n",
            "Downloading http://yann.lecun.com/exdb/mnist/t10k-images-idx3-ubyte.gz\n",
            "Failed to download (trying next):\n",
            "HTTP Error 404: Not Found\n",
            "\n",
            "Downloading https://ossci-datasets.s3.amazonaws.com/mnist/t10k-images-idx3-ubyte.gz\n",
            "Downloading https://ossci-datasets.s3.amazonaws.com/mnist/t10k-images-idx3-ubyte.gz to ./data/MNIST/raw/t10k-images-idx3-ubyte.gz\n"
          ]
        },
        {
          "output_type": "stream",
          "name": "stderr",
          "text": [
            "100%|██████████| 1.65M/1.65M [00:00<00:00, 3.87MB/s]\n"
          ]
        },
        {
          "output_type": "stream",
          "name": "stdout",
          "text": [
            "Extracting ./data/MNIST/raw/t10k-images-idx3-ubyte.gz to ./data/MNIST/raw\n",
            "\n",
            "Downloading http://yann.lecun.com/exdb/mnist/t10k-labels-idx1-ubyte.gz\n",
            "Failed to download (trying next):\n",
            "HTTP Error 404: Not Found\n",
            "\n",
            "Downloading https://ossci-datasets.s3.amazonaws.com/mnist/t10k-labels-idx1-ubyte.gz\n",
            "Downloading https://ossci-datasets.s3.amazonaws.com/mnist/t10k-labels-idx1-ubyte.gz to ./data/MNIST/raw/t10k-labels-idx1-ubyte.gz\n"
          ]
        },
        {
          "output_type": "stream",
          "name": "stderr",
          "text": [
            "100%|██████████| 4.54k/4.54k [00:00<00:00, 6.23MB/s]\n"
          ]
        },
        {
          "output_type": "stream",
          "name": "stdout",
          "text": [
            "Extracting ./data/MNIST/raw/t10k-labels-idx1-ubyte.gz to ./data/MNIST/raw\n",
            "\n",
            "Training model...\n",
            "Epoch 1, Batch 100, Loss: 1.0042, Accuracy: 73.56%\n",
            "Epoch 1, Batch 200, Loss: 0.3882, Accuracy: 81.05%\n",
            "Epoch 1, Batch 300, Loss: 0.3004, Accuracy: 84.52%\n",
            "Epoch 1, Batch 400, Loss: 0.2679, Accuracy: 86.45%\n",
            "Epoch 1, Batch 500, Loss: 0.2597, Accuracy: 87.62%\n",
            "Epoch 1, Batch 600, Loss: 0.2193, Accuracy: 88.62%\n",
            "Epoch 1, Batch 700, Loss: 0.2096, Accuracy: 89.40%\n",
            "Epoch 1, Batch 800, Loss: 0.2114, Accuracy: 89.94%\n",
            "Epoch 1, Batch 900, Loss: 0.1902, Accuracy: 90.47%\n",
            "Epoch 1 completed, Accuracy: 90.62%\n",
            "Epoch 2, Batch 100, Loss: 0.1458, Accuracy: 95.80%\n",
            "Epoch 2, Batch 200, Loss: 0.1434, Accuracy: 95.83%\n",
            "Epoch 2, Batch 300, Loss: 0.1452, Accuracy: 95.74%\n",
            "Epoch 2, Batch 400, Loss: 0.1354, Accuracy: 95.78%\n",
            "Epoch 2, Batch 500, Loss: 0.1360, Accuracy: 95.83%\n",
            "Epoch 2, Batch 600, Loss: 0.1438, Accuracy: 95.80%\n",
            "Epoch 2, Batch 700, Loss: 0.1391, Accuracy: 95.76%\n",
            "Epoch 2, Batch 800, Loss: 0.1351, Accuracy: 95.80%\n",
            "Epoch 2, Batch 900, Loss: 0.1018, Accuracy: 95.95%\n",
            "Epoch 2 completed, Accuracy: 95.96%\n",
            "Epoch 3, Batch 100, Loss: 0.1017, Accuracy: 96.84%\n",
            "Epoch 3, Batch 200, Loss: 0.0971, Accuracy: 96.88%\n",
            "Epoch 3, Batch 300, Loss: 0.0997, Accuracy: 96.92%\n",
            "Epoch 3, Batch 400, Loss: 0.0997, Accuracy: 96.92%\n",
            "Epoch 3, Batch 500, Loss: 0.1027, Accuracy: 96.98%\n",
            "Epoch 3, Batch 600, Loss: 0.0923, Accuracy: 97.01%\n",
            "Epoch 3, Batch 700, Loss: 0.0877, Accuracy: 97.07%\n",
            "Epoch 3, Batch 800, Loss: 0.0860, Accuracy: 97.11%\n",
            "Epoch 3, Batch 900, Loss: 0.0910, Accuracy: 97.14%\n",
            "Epoch 3 completed, Accuracy: 97.16%\n",
            "Epoch 4, Batch 100, Loss: 0.0703, Accuracy: 97.86%\n",
            "Epoch 4, Batch 200, Loss: 0.0711, Accuracy: 97.95%\n",
            "Epoch 4, Batch 300, Loss: 0.0683, Accuracy: 97.91%\n",
            "Epoch 4, Batch 400, Loss: 0.0626, Accuracy: 97.91%\n",
            "Epoch 4, Batch 500, Loss: 0.0699, Accuracy: 97.83%\n",
            "Epoch 4, Batch 600, Loss: 0.0741, Accuracy: 97.84%\n",
            "Epoch 4, Batch 700, Loss: 0.0767, Accuracy: 97.79%\n",
            "Epoch 4, Batch 800, Loss: 0.0794, Accuracy: 97.78%\n",
            "Epoch 4, Batch 900, Loss: 0.0687, Accuracy: 97.79%\n",
            "Epoch 4 completed, Accuracy: 97.77%\n",
            "Epoch 5, Batch 100, Loss: 0.0585, Accuracy: 98.33%\n",
            "Epoch 5, Batch 200, Loss: 0.0536, Accuracy: 98.29%\n",
            "Epoch 5, Batch 300, Loss: 0.0480, Accuracy: 98.38%\n",
            "Epoch 5, Batch 400, Loss: 0.0587, Accuracy: 98.32%\n",
            "Epoch 5, Batch 500, Loss: 0.0529, Accuracy: 98.35%\n",
            "Epoch 5, Batch 600, Loss: 0.0595, Accuracy: 98.30%\n",
            "Epoch 5, Batch 700, Loss: 0.0626, Accuracy: 98.24%\n",
            "Epoch 5, Batch 800, Loss: 0.0537, Accuracy: 98.24%\n",
            "Epoch 5, Batch 900, Loss: 0.0545, Accuracy: 98.24%\n",
            "Epoch 5 completed, Accuracy: 98.22%\n",
            "Training completed!\n"
          ]
        }
      ]
    },
    {
      "cell_type": "markdown",
      "source": [
        "# Code for attacking"
      ],
      "metadata": {
        "id": "ssDjLmTTcqKN"
      }
    },
    {
      "cell_type": "code",
      "source": [
        "# Data recovery attack via model inversion\n",
        "def model_inversion_attack(model, target_class, learning_rate=0.01, iterations=5000):\n",
        "    \"\"\"\n",
        "    Attempts to reconstruct a representative sample from target_class\n",
        "    by optimizing an input to maximize the target class probability\n",
        "    \"\"\"\n",
        "    model.eval()  # Set model to evaluation mode\n",
        "\n",
        "    # Start with random noise as our initial image\n",
        "    recovered_image = torch.rand(1, 1, 28, 28, requires_grad=True, device=device)\n",
        "\n",
        "    # Define optimizer for the image\n",
        "    optimizer = optim.Adam([recovered_image], lr=learning_rate)\n",
        "\n",
        "    # Create one-hot vector for target class\n",
        "    target = torch.zeros(1, 10, device=device)\n",
        "    target[0, target_class] = 1\n",
        "\n",
        "    losses = []\n",
        "\n",
        "    # Optimization loop\n",
        "    for i in range(iterations):\n",
        "        optimizer.zero_grad()\n",
        "\n",
        "        # Get model prediction\n",
        "        pred = model(recovered_image)\n",
        "\n",
        "        # Calculate loss (negative log likelihood of target class)\n",
        "        classification_loss = -torch.sum(target * torch.log(pred + 1e-10))\n",
        "\n",
        "        # Add regularization to encourage a cleaner image\n",
        "        tv_loss = torch.sum(torch.abs(recovered_image[:, :, :, :-1] - recovered_image[:, :, :, 1:])) + \\\n",
        "                  torch.sum(torch.abs(recovered_image[:, :, :-1, :] - recovered_image[:, :, 1:, :]))\n",
        "        tv_loss = tv_loss * 0.001\n",
        "\n",
        "        l2_loss = torch.sum(recovered_image ** 2) * 0.001\n",
        "\n",
        "        total_loss = classification_loss + tv_loss  + l2_loss\n",
        "\n",
        "        # Backward pass\n",
        "        total_loss.backward()\n",
        "\n",
        "        # Update the image\n",
        "        optimizer.step()\n",
        "\n",
        "        # Clip values to valid image range [0, 1]\n",
        "        with torch.no_grad():\n",
        "            recovered_image.clamp_(0, 1)\n",
        "\n",
        "        # Track progress\n",
        "        if i % 100 == 0:\n",
        "            losses.append(classification_loss.item())\n",
        "            print(f\"Iteration {i}, Loss: {classification_loss.item():.4f}\")\n",
        "\n",
        "    # Get the final recovered image\n",
        "    with torch.no_grad():\n",
        "        recovered_image_np = recovered_image.cpu().squeeze().numpy()\n",
        "\n",
        "    return recovered_image_np, losses\n",
        "\n",
        "# Display results\n",
        "def plot_recovered_images(original_samples, recovered_images, target_classes):\n",
        "    plt.figure(figsize=(12, 4))\n",
        "\n",
        "    for i, (orig, rec, target) in enumerate(zip(original_samples, recovered_images, target_classes)):\n",
        "        # Plot original\n",
        "        plt.subplot(2, len(target_classes), i + 1)\n",
        "        plt.imshow(orig, cmap='gray')\n",
        "        plt.title(f\"Original Class {target}\")\n",
        "        plt.axis('off')\n",
        "\n",
        "        # Plot recovered\n",
        "        plt.subplot(2, len(target_classes), i + len(target_classes) + 1)\n",
        "        plt.imshow(rec, cmap='gray')\n",
        "        plt.title(f\"Recovered Class {target}\")\n",
        "        plt.axis('off')a\n",
        "\n",
        "    plt.tight_layout()\n",
        "    plt.show()"
      ],
      "metadata": {
        "id": "s2hYMTkmbiSX"
      },
      "execution_count": null,
      "outputs": []
    },
    {
      "cell_type": "code",
      "source": [
        "# Select target classes to recover\n",
        "target_classes = [0, 1, 4, 8]  # Digits to recover: 0, 1, 4, 8\n",
        "\n",
        "# Get example images from each target class\n",
        "original_samples = []\n",
        "for target in target_classes:\n",
        "    for img, label in train_dataset:\n",
        "        if label == target:\n",
        "            original_samples.append(img.squeeze().numpy())\n",
        "            break\n",
        "\n",
        "    # Perform model inversion attack for each target class\n",
        "recovered_images = []\n",
        "for target in target_classes:\n",
        "    print(f\"\\nPerforming model inversion attack for class {target}...\")\n",
        "    recovered_image, losses = model_inversion_attack(model, target)\n",
        "    recovered_images.append(recovered_image)\n",
        "\n",
        "    # Plot loss curve\n",
        "    plt.figure(figsize=(6, 4))\n",
        "    plt.plot(np.arange(0, len(losses) * 100, 100), losses)\n",
        "    plt.xlabel('Iteration')\n",
        "    plt.ylabel('Loss')\n",
        "    plt.title(f'Attack Loss for Class {target}')\n",
        "    plt.show()\n",
        "\n",
        "# Plot results\n",
        "plot_recovered_images(original_samples, recovered_images, target_classes)\n",
        "\n",
        "print(\"\\nAttack completed. The recovered images represent information leaked from the model.\")\n"
      ],
      "metadata": {
        "colab": {
          "base_uri": "https://localhost:8080/",
          "height": 1000
        },
        "id": "qDMJIk0iateY",
        "outputId": "27749b71-2250-48d1-c3ee-d64a0e531f73"
      },
      "execution_count": null,
      "outputs": [
        {
          "output_type": "stream",
          "name": "stdout",
          "text": [
            "\n",
            "Performing model inversion attack for class 0...\n",
            "Iteration 0, Loss: 22.8719\n",
            "Iteration 100, Loss: 0.0000\n",
            "Iteration 200, Loss: 0.0000\n",
            "Iteration 300, Loss: 0.0001\n",
            "Iteration 400, Loss: 0.0001\n",
            "Iteration 500, Loss: 0.0004\n",
            "Iteration 600, Loss: 0.0008\n",
            "Iteration 700, Loss: 0.0014\n",
            "Iteration 800, Loss: 0.0017\n",
            "Iteration 900, Loss: 0.0020\n",
            "Iteration 1000, Loss: 0.0021\n",
            "Iteration 1100, Loss: 0.0023\n",
            "Iteration 1200, Loss: 0.0025\n",
            "Iteration 1300, Loss: 0.0028\n",
            "Iteration 1400, Loss: 0.0033\n",
            "Iteration 1500, Loss: 0.0034\n",
            "Iteration 1600, Loss: 0.0037\n",
            "Iteration 1700, Loss: 0.0038\n",
            "Iteration 1800, Loss: 0.0040\n",
            "Iteration 1900, Loss: 0.0041\n",
            "Iteration 2000, Loss: 0.0039\n",
            "Iteration 2100, Loss: 0.0040\n",
            "Iteration 2200, Loss: 0.0041\n",
            "Iteration 2300, Loss: 0.0041\n",
            "Iteration 2400, Loss: 0.0042\n",
            "Iteration 2500, Loss: 0.0044\n",
            "Iteration 2600, Loss: 0.0046\n",
            "Iteration 2700, Loss: 0.0047\n",
            "Iteration 2800, Loss: 0.0047\n",
            "Iteration 2900, Loss: 0.0048\n",
            "Iteration 3000, Loss: 0.0048\n",
            "Iteration 3100, Loss: 0.0047\n",
            "Iteration 3200, Loss: 0.0047\n",
            "Iteration 3300, Loss: 0.0047\n",
            "Iteration 3400, Loss: 0.0047\n",
            "Iteration 3500, Loss: 0.0047\n",
            "Iteration 3600, Loss: 0.0047\n",
            "Iteration 3700, Loss: 0.0047\n",
            "Iteration 3800, Loss: 0.0048\n",
            "Iteration 3900, Loss: 0.0047\n",
            "Iteration 4000, Loss: 0.0048\n",
            "Iteration 4100, Loss: 0.0048\n",
            "Iteration 4200, Loss: 0.0047\n",
            "Iteration 4300, Loss: 0.0047\n",
            "Iteration 4400, Loss: 0.0047\n",
            "Iteration 4500, Loss: 0.0047\n",
            "Iteration 4600, Loss: 0.0047\n",
            "Iteration 4700, Loss: 0.0047\n",
            "Iteration 4800, Loss: 0.0047\n",
            "Iteration 4900, Loss: 0.0048\n"
          ]
        },
        {
          "output_type": "display_data",
          "data": {
            "text/plain": [
              "<Figure size 600x400 with 1 Axes>"
            ],
            "image/png": "[encoded data removed]"
          },
          "metadata": {}
        },
        {
          "output_type": "stream",
          "name": "stdout",
          "text": [
            "\n",
            "Performing model inversion attack for class 1...\n",
            "Iteration 0, Loss: 16.6995\n",
            "Iteration 100, Loss: 0.0014\n",
            "Iteration 200, Loss: 0.0017\n",
            "Iteration 300, Loss: 0.0025\n",
            "Iteration 400, Loss: 0.0039\n",
            "Iteration 500, Loss: 0.0051\n",
            "Iteration 600, Loss: 0.0058\n",
            "Iteration 700, Loss: 0.0064\n",
            "Iteration 800, Loss: 0.0062\n",
            "Iteration 900, Loss: 0.0063\n",
            "Iteration 1000, Loss: 0.0064\n",
            "Iteration 1100, Loss: 0.0064\n",
            "Iteration 1200, Loss: 0.0063\n",
            "Iteration 1300, Loss: 0.0069\n",
            "Iteration 1400, Loss: 0.0077\n",
            "Iteration 1500, Loss: 0.0079\n",
            "Iteration 1600, Loss: 0.0080\n",
            "Iteration 1700, Loss: 0.0073\n",
            "Iteration 1800, Loss: 0.0067\n",
            "Iteration 1900, Loss: 0.0064\n",
            "Iteration 2000, Loss: 0.0059\n",
            "Iteration 2100, Loss: 0.0036\n",
            "Iteration 2200, Loss: 0.0040\n",
            "Iteration 2300, Loss: 0.0043\n",
            "Iteration 2400, Loss: 0.0043\n",
            "Iteration 2500, Loss: 0.0043\n",
            "Iteration 2600, Loss: 0.0043\n",
            "Iteration 2700, Loss: 0.0043\n",
            "Iteration 2800, Loss: 0.0043\n",
            "Iteration 2900, Loss: 0.0043\n",
            "Iteration 3000, Loss: 0.0043\n",
            "Iteration 3100, Loss: 0.0043\n",
            "Iteration 3200, Loss: 0.0043\n",
            "Iteration 3300, Loss: 0.0043\n",
            "Iteration 3400, Loss: 0.0043\n",
            "Iteration 3500, Loss: 0.0043\n",
            "Iteration 3600, Loss: 0.0043\n",
            "Iteration 3700, Loss: 0.0043\n",
            "Iteration 3800, Loss: 0.0043\n",
            "Iteration 3900, Loss: 0.0043\n",
            "Iteration 4000, Loss: 0.0043\n",
            "Iteration 4100, Loss: 0.0043\n",
            "Iteration 4200, Loss: 0.0043\n",
            "Iteration 4300, Loss: 0.0043\n",
            "Iteration 4400, Loss: 0.0043\n",
            "Iteration 4500, Loss: 0.0043\n",
            "Iteration 4600, Loss: 0.0043\n",
            "Iteration 4700, Loss: 0.0043\n",
            "Iteration 4800, Loss: 0.0044\n",
            "Iteration 4900, Loss: 0.0044\n"
          ]
        },
        {
          "output_type": "display_data",
          "data": {
            "text/plain": [
              "<Figure size 600x400 with 1 Axes>"
            ],
            "image/png": "[encoded data removed]"
          },
          "metadata": {}
        },
        {
          "output_type": "stream",
          "name": "stdout",
          "text": [
            "\n",
            "Performing model inversion attack for class 4...\n",
            "Iteration 0, Loss: 23.0259\n",
            "Iteration 100, Loss: 0.0009\n",
            "Iteration 200, Loss: 0.0007\n",
            "Iteration 300, Loss: 0.0007\n",
            "Iteration 400, Loss: 0.0009\n",
            "Iteration 500, Loss: 0.0014\n",
            "Iteration 600, Loss: 0.0021\n",
            "Iteration 700, Loss: 0.0027\n",
            "Iteration 800, Loss: 0.0030\n",
            "Iteration 900, Loss: 0.0021\n",
            "Iteration 1000, Loss: 0.0021\n",
            "Iteration 1100, Loss: 0.0020\n",
            "Iteration 1200, Loss: 0.0021\n",
            "Iteration 1300, Loss: 0.0023\n",
            "Iteration 1400, Loss: 0.0024\n",
            "Iteration 1500, Loss: 0.0026\n",
            "Iteration 1600, Loss: 0.0028\n",
            "Iteration 1700, Loss: 0.0033\n",
            "Iteration 1800, Loss: 0.0035\n",
            "Iteration 1900, Loss: 0.0036\n",
            "Iteration 2000, Loss: 0.0038\n",
            "Iteration 2100, Loss: 0.0038\n",
            "Iteration 2200, Loss: 0.0039\n",
            "Iteration 2300, Loss: 0.0039\n",
            "Iteration 2400, Loss: 0.0036\n",
            "Iteration 2500, Loss: 0.0034\n",
            "Iteration 2600, Loss: 0.0035\n",
            "Iteration 2700, Loss: 0.0035\n",
            "Iteration 2800, Loss: 0.0035\n",
            "Iteration 2900, Loss: 0.0035\n",
            "Iteration 3000, Loss: 0.0035\n",
            "Iteration 3100, Loss: 0.0035\n",
            "Iteration 3200, Loss: 0.0035\n",
            "Iteration 3300, Loss: 0.0035\n",
            "Iteration 3400, Loss: 0.0035\n",
            "Iteration 3500, Loss: 0.0035\n",
            "Iteration 3600, Loss: 0.0035\n",
            "Iteration 3700, Loss: 0.0035\n",
            "Iteration 3800, Loss: 0.0035\n",
            "Iteration 3900, Loss: 0.0035\n",
            "Iteration 4000, Loss: 0.0035\n",
            "Iteration 4100, Loss: 0.0035\n",
            "Iteration 4200, Loss: 0.0035\n",
            "Iteration 4300, Loss: 0.0035\n",
            "Iteration 4400, Loss: 0.0035\n",
            "Iteration 4500, Loss: 0.0035\n",
            "Iteration 4600, Loss: 0.0035\n",
            "Iteration 4700, Loss: 0.0035\n",
            "Iteration 4800, Loss: 0.0035\n",
            "Iteration 4900, Loss: 0.0035\n"
          ]
        },
        {
          "output_type": "display_data",
          "data": {
            "text/plain": [
              "<Figure size 600x400 with 1 Axes>"
            ],
            "image/png": "[encoded data removed]"
          },
          "metadata": {}
        },
        {
          "output_type": "stream",
          "name": "stdout",
          "text": [
            "\n",
            "Performing model inversion attack for class 8...\n",
            "Iteration 0, Loss: 22.4877\n",
            "Iteration 100, Loss: 0.0005\n",
            "Iteration 200, Loss: 0.0007\n",
            "Iteration 300, Loss: 0.0007\n",
            "Iteration 400, Loss: 0.0009\n",
            "Iteration 500, Loss: 0.0013\n",
            "Iteration 600, Loss: 0.0016\n",
            "Iteration 700, Loss: 0.0016\n",
            "Iteration 800, Loss: 0.0016\n",
            "Iteration 900, Loss: 0.0016\n",
            "Iteration 1000, Loss: 0.0018\n",
            "Iteration 1100, Loss: 0.0019\n",
            "Iteration 1200, Loss: 0.0023\n",
            "Iteration 1300, Loss: 0.0027\n",
            "Iteration 1400, Loss: 0.0030\n",
            "Iteration 1500, Loss: 0.0032\n",
            "Iteration 1600, Loss: 0.0032\n",
            "Iteration 1700, Loss: 0.0031\n",
            "Iteration 1800, Loss: 0.0032\n",
            "Iteration 1900, Loss: 0.0034\n",
            "Iteration 2000, Loss: 0.0035\n",
            "Iteration 2100, Loss: 0.0037\n",
            "Iteration 2200, Loss: 0.0039\n",
            "Iteration 2300, Loss: 0.0041\n",
            "Iteration 2400, Loss: 0.0042\n",
            "Iteration 2500, Loss: 0.0042\n",
            "Iteration 2600, Loss: 0.0042\n",
            "Iteration 2700, Loss: 0.0042\n",
            "Iteration 2800, Loss: 0.0042\n",
            "Iteration 2900, Loss: 0.0042\n",
            "Iteration 3000, Loss: 0.0042\n",
            "Iteration 3100, Loss: 0.0042\n",
            "Iteration 3200, Loss: 0.0042\n",
            "Iteration 3300, Loss: 0.0042\n",
            "Iteration 3400, Loss: 0.0042\n",
            "Iteration 3500, Loss: 0.0042\n",
            "Iteration 3600, Loss: 0.0042\n",
            "Iteration 3700, Loss: 0.0042\n",
            "Iteration 3800, Loss: 0.0042\n",
            "Iteration 3900, Loss: 0.0042\n",
            "Iteration 4000, Loss: 0.0042\n",
            "Iteration 4100, Loss: 0.0042\n",
            "Iteration 4200, Loss: 0.0042\n",
            "Iteration 4300, Loss: 0.0042\n",
            "Iteration 4400, Loss: 0.0042\n",
            "Iteration 4500, Loss: 0.0042\n",
            "Iteration 4600, Loss: 0.0042\n",
            "Iteration 4700, Loss: 0.0042\n",
            "Iteration 4800, Loss: 0.0042\n",
            "Iteration 4900, Loss: 0.0042\n"
          ]
        },
        {
          "output_type": "display_data",
          "data": {
            "text/plain": [
              "<Figure size 600x400 with 1 Axes>"
            ],
            "image/png": "[encoded data removed]"
          },
          "metadata": {}
        },
        {
          "output_type": "display_data",
          "data": {
            "text/plain": [
              "<Figure size 1200x400 with 8 Axes>"
            ],
            "image/png": "[encoded data removed]"
          },
          "metadata": {}
        },
        {
          "output_type": "stream",
          "name": "stdout",
          "text": [
            "\n",
            "Attack completed. The recovered images represent information leaked from the model.\n"
          ]
        }
      ]
    },
    {
      "cell_type": "markdown",
      "source": [
        "# Mission 1\n",
        "\n",
        "\n",
        "\n",
        "*   Try to explain the what we are doing in these codes\n",
        "*   Try to explain the importance of this topic\n",
        "\n"
      ],
      "metadata": {
        "id": "X_2CtvcJeVzr"
      }
    },
    {
      "cell_type": "markdown",
      "source": [
        "# Mission 2\n",
        "\n",
        "\n",
        "\n",
        "*   Change the hyper-parameters in the following attacking function\n",
        "*   Compare the results of different hyper-parameters\n",
        "*   Explain the mechanism of this attacking function\n",
        "\n"
      ],
      "metadata": {
        "id": "MNE7MQJRer8i"
      }
    }
  ]
}