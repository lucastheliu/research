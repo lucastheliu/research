{
  "nbformat": 4,
  "nbformat_minor": 0,
  "metadata": {
    "colab": {
      "provenance": [],
      "gpuType": "T4"
    },
    "kernelspec": {
      "name": "python3",
      "display_name": "Python 3"
    },
    "language_info": {
      "name": "python"
    },
    "accelerator": "GPU"
  },
  "cells": [
    {
      "cell_type": "markdown",
      "source": [
        "# Attacks in Federated Learning (2)\n",
        "\n",
        "Please complete the following tasks with the help of Claude and ChatGPT:\n",
        "\n",
        "1. **Adapt the CNN code for MNIST** (from code **(3)**) to a federated learning framework.  \n",
        "   - Integrate the CNN model into a setup where multiple clients train locally and send their parameters to a central server.\n",
        "\n",
        "2. **Introduce attacks under i.i.d. data** across communication rounds, following these steps:\n",
        "   - **Single communication round**:  \n",
        "     When the server receives parameters from the clients (before averaging), apply the attack code from code **(3)** to recover each client’s data.\n",
        "   - **Multiple communication rounds**:  \n",
        "     Fix the attack to target only *client 1*. In each round, once the server receives parameters from client 1, execute the attack once. After \\( T \\) rounds, the server will have \\( T \\) separate attack results. **Compare** these results to evaluate how the attack evolves over multiple rounds.\n"
      ],
      "metadata": {
        "id": "2H_IMHu-xuwN"
      }
    },
    {
      "cell_type": "code",
      "source": [
        "import torch\n",
        "import torch.nn as nn\n",
        "import torch.optim as optim\n",
        "import torch.nn.functional as F\n",
        "from torchvision import datasets, transforms\n",
        "from torch.utils.data import DataLoader, Subset\n",
        "import numpy as np\n",
        "import matplotlib.pyplot as plt\n",
        "from collections import OrderedDict"
      ],
      "metadata": {
        "id": "VkWZnPG2i_9H"
      },
      "execution_count": null,
      "outputs": []
    },
    {
      "cell_type": "code",
      "source": [
        "torch.manual_seed(42)\n",
        "np.random.seed(42)"
      ],
      "metadata": {
        "id": "JRbW74yEjBv_"
      },
      "execution_count": null,
      "outputs": []
    },
    {
      "cell_type": "code",
      "source": [
        "class CNN(nn.Module):\n",
        "    def __init__(self):\n",
        "        super(CNN, self).__init__()\n",
        "        self.conv1 = nn.Conv2d(1, 32, 3, 1)\n",
        "        self.conv2 = nn.Conv2d(32, 64, 3, 1)\n",
        "\n",
        "        self.dropout1 = nn.Dropout2d(0.25)\n",
        "        self.dropout2 = nn.Dropout2d(0.5)\n",
        "\n",
        "        self.fc1 = nn.Linear(9216, 128)\n",
        "        self.fc2 = nn.Linear(128, 10)\n",
        "\n",
        "    def forward(self, x):\n",
        "        x = self.conv1(x)\n",
        "        x = F.relu(x)\n",
        "\n",
        "        x = self.conv2(x)\n",
        "        x = F.relu(x)\n",
        "\n",
        "        x = F.max_pool2d(x, 2)\n",
        "        x = self.dropout1(x)\n",
        "\n",
        "        x = torch.flatten(x, 1)\n",
        "\n",
        "        x = self.fc1(x)\n",
        "        x = F.relu(x)\n",
        "\n",
        "        x = self.dropout2(x)\n",
        "        x = self.fc2(x)\n",
        "\n",
        "        x = F.softmax(x, dim=1)\n",
        "\n",
        "        return x"
      ],
      "metadata": {
        "id": "_N1hNDnPjDiS"
      },
      "execution_count": null,
      "outputs": []
    },
    {
      "cell_type": "code",
      "source": [
        "def load_mnist():\n",
        "    transform = transforms.Compose([\n",
        "        transforms.ToTensor(),\n",
        "        transforms.Normalize((0.1307,), (0.3081,))\n",
        "    ])\n",
        "\n",
        "    train_dataset = datasets.MNIST('./data', train=True, download=True, transform=transform)\n",
        "    test_dataset = datasets.MNIST('./data', train=False, transform=transform)\n",
        "\n",
        "    return train_dataset, test_dataset"
      ],
      "metadata": {
        "id": "aOYAPoZrjMYM"
      },
      "execution_count": null,
      "outputs": []
    },
    {
      "cell_type": "code",
      "source": [
        "def distribute_data(dataset, num_clients, iid=True):\n",
        "    if iid:\n",
        "        num_items_per_client = len(dataset) // num_clients\n",
        "        client_datasets = []\n",
        "\n",
        "        indices = torch.randperm(len(dataset))\n",
        "        for i in range(num_clients):\n",
        "            start_idx = i * num_items_per_client\n",
        "            end_idx = (i + 1) * num_items_per_client if i < num_clients - 1 else len(dataset)\n",
        "            client_indices = indices[start_idx:end_idx]\n",
        "            client_datasets.append(Subset(dataset, client_indices))\n",
        "    else:\n",
        "        labels = dataset.targets.numpy()\n",
        "        sorted_indices = np.argsort(labels)\n",
        "        client_datasets = []\n",
        "        shards_per_client = 2\n",
        "\n",
        "        num_shards = num_clients * shards_per_client\n",
        "        items_per_shard = len(dataset) // num_shards\n",
        "        shard_indices = []\n",
        "\n",
        "        for i in range(num_shards):\n",
        "            start_idx = i * items_per_shard\n",
        "            end_idx = (i + 1) * items_per_shard if i < num_shards - 1 else len(sorted_indices)\n",
        "            shard_indices.append(sorted_indices[start_idx:end_idx])\n",
        "\n",
        "        np.random.shuffle(shard_indices)\n",
        "\n",
        "        for i in range(num_clients):\n",
        "            client_idx = []\n",
        "            for j in range(shards_per_client):\n",
        "                client_idx.extend(shard_indices[i * shards_per_client + j])\n",
        "            client_datasets.append(Subset(dataset, client_idx))\n",
        "\n",
        "    return client_datasets"
      ],
      "metadata": {
        "id": "gL-3oMtpjNyy"
      },
      "execution_count": null,
      "outputs": []
    },
    {
      "cell_type": "code",
      "source": [
        "class Client:\n",
        "    def __init__(self, dataset, client_id, device):\n",
        "        self.dataset = dataset\n",
        "        self.client_id = client_id\n",
        "        self.device = device\n",
        "        self.model = CNN().to(device)\n",
        "        self.dataloader = DataLoader(dataset, batch_size=64, shuffle=True)\n",
        "\n",
        "    def train(self, epochs=1):\n",
        "        self.model.train()\n",
        "        optimizer = optim.Adam(self.model.parameters(), lr=0.001)\n",
        "\n",
        "        for epoch in range(epochs):\n",
        "            total_loss = 0\n",
        "            for batch_idx, (data, target) in enumerate(self.dataloader):\n",
        "                data, target = data.to(self.device), target.to(self.device)\n",
        "\n",
        "                optimizer.zero_grad()\n",
        "                output = self.model(data)\n",
        "                loss = F.cross_entropy(output, target)\n",
        "                loss.backward()\n",
        "                optimizer.step()\n",
        "\n",
        "                total_loss += loss.item()\n",
        "\n",
        "        return total_loss / len(self.dataloader)\n",
        "\n",
        "    def evaluate(self, test_loader):\n",
        "        self.model.eval()\n",
        "        test_loss = 0\n",
        "        correct = 0\n",
        "\n",
        "        with torch.no_grad():\n",
        "            for data, target in test_loader:\n",
        "                data, target = data.to(self.device), target.to(self.device)\n",
        "                output = self.model(data)\n",
        "                test_loss += F.cross_entropy(output, target, reduction='sum').item()\n",
        "                pred = output.argmax(dim=1, keepdim=True)\n",
        "                correct += pred.eq(target.view_as(pred)).sum().item()\n",
        "\n",
        "        test_loss /= len(test_loader.dataset)\n",
        "        accuracy = 100. * correct / len(test_loader.dataset)\n",
        "\n",
        "        return test_loss, accuracy\n",
        "\n",
        "    def get_parameters(self):\n",
        "        return {k: v.cpu() for k, v in self.model.state_dict().items()}\n",
        "\n",
        "    def set_parameters(self, parameters):\n",
        "        params_on_device = {k: v.to(self.device) for k, v in parameters.items()}\n",
        "        self.model.load_state_dict(params_on_device)"
      ],
      "metadata": {
        "id": "KVqSXyfzjQoF"
      },
      "execution_count": null,
      "outputs": []
    },
    {
      "cell_type": "code",
      "source": [
        "class Server:\n",
        "    def __init__(self, test_dataset, device):\n",
        "        self.clients = []\n",
        "        self.device = device\n",
        "        self.global_model = CNN().to(device)\n",
        "        self.test_loader = DataLoader(test_dataset, batch_size=128)\n",
        "\n",
        "    def add_client(self, client):\n",
        "        self.clients.append(client)\n",
        "\n",
        "    def aggregate_parameters(self, client_parameters):\n",
        "        global_dict = OrderedDict()\n",
        "\n",
        "        for k in client_parameters[0].keys():\n",
        "            global_dict[k] = torch.stack([client_parameters[i][k] for i in range(len(client_parameters))], 0).mean(0)\n",
        "\n",
        "        return global_dict\n",
        "\n",
        "    def update_global_model(self):\n",
        "        client_parameters = [client.get_parameters() for client in self.clients]\n",
        "        global_parameters = self.aggregate_parameters(client_parameters)\n",
        "\n",
        "        self.global_model.load_state_dict({k: v.to(self.device) for k, v in global_parameters.items()})\n",
        "\n",
        "        for client in self.clients:\n",
        "            client.set_parameters(global_parameters)\n",
        "\n",
        "        return client_parameters[0]  # Return client 1's parameters for potential attack\n",
        "\n",
        "    def evaluate_global_model(self):\n",
        "        self.global_model.eval()\n",
        "        test_loss = 0\n",
        "        correct = 0\n",
        "\n",
        "        with torch.no_grad():\n",
        "            for data, target in self.test_loader:\n",
        "                data, target = data.to(self.device), target.to(self.device)\n",
        "                output = self.global_model(data)\n",
        "                test_loss += F.cross_entropy(output, target, reduction='sum').item()\n",
        "                pred = output.argmax(dim=1, keepdim=True)\n",
        "                correct += pred.eq(target.view_as(pred)).sum().item()\n",
        "\n",
        "        test_loss /= len(self.test_loader.dataset)\n",
        "        accuracy = 100. * correct / len(self.test_loader.dataset)\n",
        "\n",
        "        return test_loss, accuracy"
      ],
      "metadata": {
        "id": "PuOBJ1FzjUcD"
      },
      "execution_count": null,
      "outputs": []
    },
    {
      "cell_type": "code",
      "source": [
        "class ModelInversionAttack:\n",
        "    def __init__(self, model_params, target_class, device):\n",
        "        self.model_params = model_params\n",
        "        self.target_class = target_class\n",
        "        self.device = device\n",
        "\n",
        "    def perform_multimodel_attack(self, models_list, num_iterations=1000, learning_rate=0.01, reg_param=0.01):\n",
        "        \"\"\"\n",
        "        Perform model inversion attack using multiple models with different parameters.\n",
        "\n",
        "        Args:\n",
        "            models_list: List of model parameters for different models\n",
        "            num_iterations: Number of optimization iterations\n",
        "            learning_rate: Learning rate for optimization\n",
        "            reg_param: Regularization parameter for total variation loss\n",
        "\n",
        "        Returns:\n",
        "            Tuple of (recovered image, loss history)\n",
        "        \"\"\"\n",
        "        loaded_models = []\n",
        "        for model_params in models_list:\n",
        "            model = CNN().to(self.device)\n",
        "            model.load_state_dict({k: v.to(self.device) for k, v in model_params.items()})\n",
        "            model.eval()\n",
        "            loaded_models.append(model)\n",
        "\n",
        "        # Initialize the recovered image\n",
        "        recovered_image = torch.rand(1, 1, 28, 28, requires_grad=True, device=self.device)\n",
        "        optimizer = optim.Adam([recovered_image], lr=learning_rate)\n",
        "\n",
        "        # One-hot encode target class\n",
        "        target = torch.zeros(1, 10, device=self.device)\n",
        "        target[0, self.target_class] = 1\n",
        "\n",
        "        losses = []\n",
        "\n",
        "        for i in range(num_iterations):\n",
        "            optimizer.zero_grad()\n",
        "\n",
        "            # Calculate classification loss across all models\n",
        "            classification_loss = 0\n",
        "            for model in loaded_models:\n",
        "                pred = model(recovered_image)\n",
        "                classification_loss += -torch.sum(target * torch.log(pred + 1e-10))\n",
        "\n",
        "            # Average the classification loss\n",
        "            classification_loss /= len(loaded_models)\n",
        "\n",
        "            # Total variation regularization\n",
        "            tv_loss = torch.sum(torch.abs(recovered_image[:, :, :, :-1] - recovered_image[:, :, :, 1:])) + \\\n",
        "                      torch.sum(torch.abs(recovered_image[:, :, :-1, :] - recovered_image[:, :, 1:, :]))\n",
        "            tv_loss = tv_loss * reg_param\n",
        "\n",
        "            # L2 regularization\n",
        "            l2_loss = torch.sum(recovered_image ** 2) * 0.001\n",
        "\n",
        "            # Combine all losses\n",
        "            total_loss = classification_loss + tv_loss + l2_loss\n",
        "\n",
        "            # Backpropagate and update\n",
        "            total_loss.backward()\n",
        "            optimizer.step()\n",
        "\n",
        "            # Clamp values to valid image range\n",
        "            with torch.no_grad():\n",
        "                recovered_image.clamp_(0, 1)\n",
        "\n",
        "            # Log progress\n",
        "            if i % 400 == 0:\n",
        "                losses.append(classification_loss.item())\n",
        "                print(f\"[{i}, {classification_loss.item():.4f}]\")\n",
        "\n",
        "        # Convert final result to numpy array\n",
        "        with torch.no_grad():\n",
        "            recovered_image_np = recovered_image.cpu().numpy()\n",
        "\n",
        "        return recovered_image_np, losses\n",
        "\n",
        "    def perform_attack(self, num_iterations=1000, learning_rate=0.01, reg_param=0.01):\n",
        "        model = CNN().to(self.device)\n",
        "        model.load_state_dict({k: v.to(self.device) for k, v in self.model_params.items()})\n",
        "        model.eval()\n",
        "\n",
        "        recovered_image = torch.rand(1, 1, 28, 28, requires_grad=True, device=self.device)\n",
        "        # recovered_image_2 = torch.rand(1, 1, 28, 28, requires_grad=True, device=self.device)\n",
        "\n",
        "        # optimizer = optim.Adam([recovered_image, recovered_image_2], lr=learning_rate)\n",
        "        optimizer = optim.Adam([recovered_image], lr=learning_rate)\n",
        "\n",
        "        target = torch.zeros(1, 10, device=self.device)\n",
        "        target[0, self.target_class] = 1\n",
        "\n",
        "        losses = []\n",
        "\n",
        "        for i in range(num_iterations):\n",
        "            optimizer.zero_grad()\n",
        "\n",
        "            pred = model(recovered_image)\n",
        "            # pred_2 = model(recovered_image_2)\n",
        "\n",
        "            classification_loss = -torch.sum(target * torch.log(pred + 1e-10)) #-torch.sum(target * torch.log(pred_2 + 1e-10))\n",
        "\n",
        "            tv_loss = torch.sum(torch.abs(recovered_image[:, :, :, :-1] - recovered_image[:, :, :, 1:])) + \\\n",
        "                    torch.sum(torch.abs(recovered_image[:, :, :-1, :] - recovered_image[:, :, 1:, :]))\n",
        "            tv_loss = tv_loss * reg_param\n",
        "\n",
        "            # tv_loss_2 = torch.sum(torch.abs(recovered_image_2[:, :, :, :-1] - recovered_image_2[:, :, :, 1:])) + \\\n",
        "                    # torch.sum(torch.abs(recovered_image_2[:, :, :-1, :] - recovered_image_2[:, :, 1:, :]))\n",
        "            # tv_loss_2 = tv_loss_2 * reg_param\n",
        "\n",
        "            l2_loss = torch.sum(recovered_image ** 2) * 0.001\n",
        "            # l2_loss_2 = torch.sum(recovered_image_2 ** 2) * 0.001\n",
        "\n",
        "            total_loss = classification_loss + tv_loss + l2_loss #+ tv_loss_2 + l2_loss_2\n",
        "\n",
        "            total_loss.backward()\n",
        "            optimizer.step()\n",
        "\n",
        "            with torch.no_grad():\n",
        "                recovered_image.clamp_(0, 1)\n",
        "                # recovered_image_2.clamp_(0, 1)\n",
        "\n",
        "            if i % 800 == 0:\n",
        "                losses.append(classification_loss.item())\n",
        "                print(f\"[{i}, {classification_loss.item():.4f}]\")\n",
        "\n",
        "        with torch.no_grad():\n",
        "            recovered_image_np = recovered_image.cpu().numpy()\n",
        "            # recovered_image_np = ((recovered_image + recovered_image_2) / 2).cpu().numpy()\n",
        "\n",
        "        return recovered_image_np, losses"
      ],
      "metadata": {
        "id": "HcbwFxNJjYIC"
      },
      "execution_count": null,
      "outputs": []
    },
    {
      "cell_type": "code",
      "source": [
        "def run_federated_learning(num_clients=3, num_rounds=3, local_epochs=1, iid=False):\n",
        "    device = torch.device('cuda' if torch.cuda.is_available() else 'cpu')\n",
        "    print(f\"Using device: {device}\")\n",
        "\n",
        "    train_dataset, test_dataset = load_mnist()\n",
        "    client_datasets = distribute_data(train_dataset, num_clients, iid=iid)\n",
        "\n",
        "    server = Server(test_dataset, device)\n",
        "    clients = []\n",
        "    client_params_list = []\n",
        "\n",
        "    for i in range(num_clients):\n",
        "        client = Client(client_datasets[i], i, device)\n",
        "        clients.append(client)\n",
        "        server.add_client(client)\n",
        "\n",
        "    global_accuracies = []\n",
        "    client_losses = [[] for _ in range(num_clients)]\n",
        "\n",
        "    # Federated learning loop\n",
        "    for round_num in range(num_rounds):\n",
        "        client_params_list.append([])\n",
        "\n",
        "        print(f\"\\nRound {round_num+1}/{num_rounds}\")\n",
        "\n",
        "        for i, client in enumerate(clients):\n",
        "            loss = client.train(epochs=local_epochs)\n",
        "            client_losses[i].append(loss)\n",
        "            print(f\"Client {i+1} loss: {loss:.4f}\")\n",
        "\n",
        "            client_params_list[round_num].append(client.get_parameters())\n",
        "\n",
        "        server.update_global_model()\n",
        "        test_loss, accuracy = server.evaluate_global_model()\n",
        "        global_accuracies.append(accuracy)\n",
        "        print(f\"Global model - Test loss: {test_loss:.4f}, Accuracy: {accuracy:.2f}%\")\n",
        "\n",
        "    return (global_accuracies, client_losses), (server, clients, client_params_list)"
      ],
      "metadata": {
        "id": "zEWVJIm4janG"
      },
      "execution_count": null,
      "outputs": []
    },
    {
      "cell_type": "code",
      "source": [
        "num_clients = 10\n",
        "\n",
        "(global_accuracies, client_losses), (server, clients, client_params_list) = run_federated_learning(\n",
        "    num_clients=num_clients,\n",
        "    num_rounds=10,\n",
        "    local_epochs=1,\n",
        "    iid=True\n",
        ")\n",
        "\n",
        "device = torch.device('cuda' if torch.cuda.is_available() else 'cpu')\n",
        "model_params = [clients[i].get_parameters() for i in range(num_clients)]"
      ],
      "metadata": {
        "colab": {
          "base_uri": "https://localhost:8080/"
        },
        "id": "gLyD1RW0cjR6",
        "outputId": "fbb83544-40ee-4eb1-f050-a15ceec76b5b"
      },
      "execution_count": null,
      "outputs": [
        {
          "output_type": "stream",
          "name": "stdout",
          "text": [
            "Using device: cuda\n",
            "\n",
            "Round 1/10\n"
          ]
        },
        {
          "output_type": "stream",
          "name": "stderr",
          "text": [
            "/usr/local/lib/python3.11/dist-packages/torch/nn/functional.py:1538: UserWarning: dropout2d: Received a 2-D input to dropout2d, which is deprecated and will result in an error in a future release. To retain the behavior and silence this warning, please use dropout instead. Note that dropout2d exists to provide channel-wise dropout on inputs with 2 spatial dimensions, a channel dimension, and an optional batch dimension (i.e. 3D or 4D inputs).\n",
            "  warnings.warn(warn_msg)\n"
          ]
        },
        {
          "output_type": "stream",
          "name": "stdout",
          "text": [
            "Client 1 loss: 1.7766\n",
            "Client 2 loss: 1.8427\n",
            "Client 3 loss: 1.8103\n",
            "Client 4 loss: 1.8062\n",
            "Client 5 loss: 1.7920\n",
            "Client 6 loss: 1.7787\n",
            "Client 7 loss: 1.8516\n",
            "Client 8 loss: 1.7749\n",
            "Client 9 loss: 1.8039\n",
            "Client 10 loss: 1.8605\n",
            "Global model - Test loss: 2.3020, Accuracy: 11.35%\n",
            "\n",
            "Round 2/10\n",
            "Client 1 loss: 1.8507\n",
            "Client 2 loss: 1.8370\n",
            "Client 3 loss: 1.8455\n",
            "Client 4 loss: 1.8636\n",
            "Client 5 loss: 1.8677\n",
            "Client 6 loss: 1.8600\n",
            "Client 7 loss: 1.8467\n",
            "Client 8 loss: 1.8514\n",
            "Client 9 loss: 1.8642\n",
            "Client 10 loss: 1.8940\n",
            "Global model - Test loss: 1.6395, Accuracy: 83.17%\n",
            "\n",
            "Round 3/10\n",
            "Client 1 loss: 1.7044\n",
            "Client 2 loss: 1.6887\n",
            "Client 3 loss: 1.6859\n",
            "Client 4 loss: 1.6880\n",
            "Client 5 loss: 1.6945\n",
            "Client 6 loss: 1.6937\n",
            "Client 7 loss: 1.6814\n",
            "Client 8 loss: 1.6871\n",
            "Client 9 loss: 1.6777\n",
            "Client 10 loss: 1.6845\n",
            "Global model - Test loss: 1.5671, Accuracy: 89.58%\n",
            "\n",
            "Round 4/10\n",
            "Client 1 loss: 1.6607\n",
            "Client 2 loss: 1.6549\n",
            "Client 3 loss: 1.6565\n",
            "Client 4 loss: 1.6503\n",
            "Client 5 loss: 1.6521\n",
            "Client 6 loss: 1.6554\n",
            "Client 7 loss: 1.6425\n",
            "Client 8 loss: 1.6521\n",
            "Client 9 loss: 1.6484\n",
            "Client 10 loss: 1.6469\n",
            "Global model - Test loss: 1.5521, Accuracy: 90.94%\n",
            "\n",
            "Round 5/10\n",
            "Client 1 loss: 1.6337\n",
            "Client 2 loss: 1.6292\n",
            "Client 3 loss: 1.6190\n",
            "Client 4 loss: 1.6267\n",
            "Client 5 loss: 1.6315\n",
            "Client 6 loss: 1.6226\n",
            "Client 7 loss: 1.6189\n",
            "Client 8 loss: 1.6270\n",
            "Client 9 loss: 1.6286\n",
            "Client 10 loss: 1.6300\n",
            "Global model - Test loss: 1.5384, Accuracy: 92.43%\n",
            "\n",
            "Round 6/10\n",
            "Client 1 loss: 1.6173\n",
            "Client 2 loss: 1.6032\n",
            "Client 3 loss: 1.6029\n",
            "Client 4 loss: 1.5959\n",
            "Client 5 loss: 1.5983\n",
            "Client 6 loss: 1.6039\n",
            "Client 7 loss: 1.5987\n",
            "Client 8 loss: 1.5944\n",
            "Client 9 loss: 1.6024\n",
            "Client 10 loss: 1.5997\n",
            "Global model - Test loss: 1.5281, Accuracy: 93.43%\n",
            "\n",
            "Round 7/10\n",
            "Client 1 loss: 1.5862\n",
            "Client 2 loss: 1.5824\n",
            "Client 3 loss: 1.5795\n",
            "Client 4 loss: 1.5797\n",
            "Client 5 loss: 1.5753\n",
            "Client 6 loss: 1.5824\n",
            "Client 7 loss: 1.5720\n",
            "Client 8 loss: 1.5803\n",
            "Client 9 loss: 1.5749\n",
            "Client 10 loss: 1.5729\n",
            "Global model - Test loss: 1.5171, Accuracy: 94.55%\n",
            "\n",
            "Round 8/10\n",
            "Client 1 loss: 1.5711\n",
            "Client 2 loss: 1.5637\n",
            "Client 3 loss: 1.5663\n",
            "Client 4 loss: 1.5579\n",
            "Client 5 loss: 1.5580\n",
            "Client 6 loss: 1.5673\n",
            "Client 7 loss: 1.5558\n",
            "Client 8 loss: 1.5564\n",
            "Client 9 loss: 1.5658\n",
            "Client 10 loss: 1.5583\n",
            "Global model - Test loss: 1.5093, Accuracy: 95.19%\n",
            "\n",
            "Round 9/10\n",
            "Client 1 loss: 1.5561\n",
            "Client 2 loss: 1.5509\n",
            "Client 3 loss: 1.5543\n",
            "Client 4 loss: 1.5436\n",
            "Client 5 loss: 1.5472\n",
            "Client 6 loss: 1.5583\n",
            "Client 7 loss: 1.5460\n",
            "Client 8 loss: 1.5465\n",
            "Client 9 loss: 1.5518\n",
            "Client 10 loss: 1.5446\n",
            "Global model - Test loss: 1.5038, Accuracy: 95.75%\n",
            "\n",
            "Round 10/10\n",
            "Client 1 loss: 1.5405\n",
            "Client 2 loss: 1.5435\n",
            "Client 3 loss: 1.5410\n",
            "Client 4 loss: 1.5331\n",
            "Client 5 loss: 1.5315\n",
            "Client 6 loss: 1.5432\n",
            "Client 7 loss: 1.5364\n",
            "Client 8 loss: 1.5377\n",
            "Client 9 loss: 1.5395\n",
            "Client 10 loss: 1.5396\n",
            "Global model - Test loss: 1.4984, Accuracy: 96.34%\n"
          ]
        }
      ]
    },
    {
      "cell_type": "code",
      "source": [
        "len(client_params_list[0])"
      ],
      "metadata": {
        "colab": {
          "base_uri": "https://localhost:8080/"
        },
        "id": "aavLAk0PTbnj",
        "outputId": "adcd3a20-7574-4ca8-879e-f5d4d72b34f6"
      },
      "execution_count": null,
      "outputs": [
        {
          "output_type": "execute_result",
          "data": {
            "text/plain": [
              "3"
            ]
          },
          "metadata": {},
          "execution_count": 46
        }
      ]
    },
    {
      "cell_type": "code",
      "source": [
        "results = []\n",
        "target_classes = range(0, 9 + 1)\n",
        "\n",
        "for target_class in target_classes:\n",
        "    print(f\"Finished class: {target_class}\")\n",
        "\n",
        "    images = []\n",
        "\n",
        "    attack = ModelInversionAttack(None, target_class, device)\n",
        "    test_loader = torch.utils.data.DataLoader(datasets.MNIST('./data', train=False, transform=transforms.ToTensor()), batch_size=64)\n",
        "\n",
        "    attacked_image, _ = attack.perform_multimodel_attack(\n",
        "        # [\n",
        "        #     client_params_list[0][0], # round 1, client 0\n",
        "        #     client_params_list[1][0], # round 2, client 0\n",
        "        #     client_params_list[2][0], # round 3, client 0\n",
        "        #     client_params_list[3][0], # round 4, client 0\n",
        "        #     client_params_list[4][0]  # round 5, client 0\n",
        "        # ],\n",
        "        model_params,\n",
        "        num_iterations=400, # 1000\n",
        "        learning_rate=0.1,  # 0.01\n",
        "        reg_param=1e-4     # 1e-5\n",
        "    )\n",
        "    attacked_image = np.squeeze(attacked_image)\n",
        "\n",
        "    images.append(attacked_image)\n",
        "    results.append(images)"
      ],
      "metadata": {
        "colab": {
          "base_uri": "https://localhost:8080/"
        },
        "id": "F-Gt6TZnRn6-",
        "outputId": "81ea9826-a82d-4c17-ed41-ff2ac55dd732"
      },
      "execution_count": null,
      "outputs": [
        {
          "output_type": "stream",
          "name": "stdout",
          "text": [
            "Finished class: 0\n",
            "[0, 2.5600]\n"
          ]
        },
        {
          "output_type": "stream",
          "name": "stderr",
          "text": [
            "/usr/local/lib/python3.11/dist-packages/torch/nn/functional.py:1538: UserWarning: dropout2d: Received a 2-D input to dropout2d, which is deprecated and will result in an error in a future release. To retain the behavior and silence this warning, please use dropout instead. Note that dropout2d exists to provide channel-wise dropout on inputs with 2 spatial dimensions, a channel dimension, and an optional batch dimension (i.e. 3D or 4D inputs).\n",
            "  warnings.warn(warn_msg)\n"
          ]
        },
        {
          "output_type": "stream",
          "name": "stdout",
          "text": [
            "Finished class: 1\n",
            "[0, 2.5712]\n",
            "Finished class: 2\n",
            "[0, 2.2056]\n",
            "Finished class: 3\n",
            "[0, 1.1223]\n",
            "Finished class: 4\n",
            "[0, 2.7920]\n",
            "Finished class: 5\n",
            "[0, 2.2885]\n",
            "Finished class: 6\n",
            "[0, 3.7979]\n",
            "Finished class: 7\n",
            "[0, 3.0912]\n",
            "Finished class: 8\n",
            "[0, 2.4416]\n",
            "Finished class: 9\n",
            "[0, 3.4616]\n"
          ]
        }
      ]
    },
    {
      "cell_type": "code",
      "source": [
        "results = []\n",
        "target_classes = range(10)\n",
        "\n",
        "for i in range(num_clients):\n",
        "    print(f\"Attacking client: {i}\")\n",
        "    images = []\n",
        "\n",
        "    for target_class in target_classes:\n",
        "        attack = ModelInversionAttack(model_params[i], target_class, device)\n",
        "        test_loader = torch.utils.data.DataLoader(datasets.MNIST('./data', train=False, transform=transforms.ToTensor()), batch_size=64)\n",
        "\n",
        "        attacked_image, _ = attack.perform_multimodel_attack(model_params, num_iterations=1000, learning_rate=0.01, reg_param=1e-5)\n",
        "        attacked_image = np.squeeze(attacked_image)\n",
        "        images.append(attacked_image)\n",
        "\n",
        "        print(f\"Finished class: {target_class}\")\n",
        "\n",
        "    results.append(images)"
      ],
      "metadata": {
        "id": "7_Ze05O2dNOO"
      },
      "execution_count": null,
      "outputs": []
    },
    {
      "cell_type": "code",
      "source": [
        "# fig, axes = plt.subplots(len(target_classes), num_clients, figsize=(10, 10))\n",
        "fig, axes = plt.subplots(1, 2, figsize=(8, 8))\n",
        "\n",
        "# for row in range(len(target_classes)):\n",
        "for row in range(2):\n",
        "    # for col in range(num_clients):\n",
        "    for col in range(1):\n",
        "        axes[row][col].imshow(results[col][row], cmap='gray')\n",
        "\n",
        "        if row == 0:\n",
        "            axes[row][col].set_title(f\"Client: {col + 1}\")\n",
        "\n",
        "        axes[row][col].get_xaxis().set_visible(False)\n",
        "\n",
        "        if col == 0:\n",
        "            axes[row][col].set_ylabel(f\"Class: {target_classes[row]}\")\n",
        "        else:\n",
        "            axes[row][col].get_yaxis().set_visible(False)\n",
        "\n",
        "plt.tight_layout()\n",
        "plt.show()"
      ],
      "metadata": {
        "id": "KSArjylAlLyj"
      },
      "execution_count": null,
      "outputs": []
    },
    {
      "cell_type": "code",
      "source": [
        "results[0]"
      ],
      "metadata": {
        "colab": {
          "base_uri": "https://localhost:8080/"
        },
        "id": "kCYj1_-TVLEV",
        "outputId": "ce35c0ee-88fc-4213-b7c7-b2a39d88148e"
      },
      "execution_count": null,
      "outputs": [
        {
          "output_type": "execute_result",
          "data": {
            "text/plain": [
              "1"
            ]
          },
          "metadata": {},
          "execution_count": 66
        }
      ]
    },
    {
      "cell_type": "code",
      "source": [
        "fig, axes = plt.subplots(3, 4, figsize=(10, 6))\n",
        "\n",
        "round = 0\n",
        "\n",
        "for y in range(3):\n",
        "    for x in range(4):\n",
        "        if round <= 9:\n",
        "            axes[y][x].imshow(results[round][0], cmap='gray')\n",
        "        axes[y][x].axis(\"off\")\n",
        "        round += 1\n",
        "\n",
        "plt.tight_layout()\n",
        "plt.show()"
      ],
      "metadata": {
        "colab": {
          "base_uri": "https://localhost:8080/",
          "height": 607
        },
        "id": "bCeaI4_FU6IK",
        "outputId": "690f6d11-6136-4d9e-d2d0-279bab1fd29d"
      },
      "execution_count": null,
      "outputs": [
        {
          "output_type": "display_data",
          "data": {
            "text/plain": [
              "<Figure size 1000x600 with 12 Axes>"
            ],
            "image/png": "[encoded data removed]"
          },
          "metadata": {}
        }
      ]
    },
    {
      "cell_type": "markdown",
      "source": [],
      "metadata": {
        "id": "qYashM_8U5hY"
      }
    },
    {
      "cell_type": "markdown",
      "source": [],
      "metadata": {
        "id": "NcF-6QEDREg3"
      }
    }
  ]
}