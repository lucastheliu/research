{
 "cells": [
  {
   "cell_type": "markdown",
   "id": "b07935e9",
   "metadata": {},
   "source": [
    "# Inversion Attack On Models\n",
    "\n",
    "This notebook requires both the `mlp_model.pth` file from `mlp.ipynb` and the `clients/` model files from  `federated.ipynb`."
   ]
  },
  {
   "cell_type": "code",
   "execution_count": null,
   "id": "d36c00ea",
   "metadata": {},
   "outputs": [],
   "source": [
    "import os, sys\n",
    "import numpy as np\n",
    "import matplotlib.pyplot as plt\n",
    "\n",
    "import torch\n",
    "import torch.optim as optim\n",
    "\n",
    "sys.path.insert(0, os.path.abspath('../src'))\n",
    "\n",
    "from models import MLP, CNN\n",
    "from utils import get_mnist_loader"
   ]
  },
  {
   "cell_type": "code",
   "execution_count": 8,
   "id": "7d4533be",
   "metadata": {},
   "outputs": [],
   "source": [
    "class InversionAttack:\n",
    "    def __init__(self, loaded_models, target_class, device):\n",
    "        self.loaded_models = loaded_models\n",
    "        self.target_class = target_class\n",
    "        self.device = device\n",
    "\n",
    "    def perform_multimodel_attack(self, num_iter=1000, lr=0.01, reg_param=0.01):\n",
    "        # Initialize the recovered image\n",
    "        recovered_image = torch.rand(1, 1, 28, 28, requires_grad=True, device=self.device)\n",
    "        optimizer = optim.Adam([recovered_image], lr=lr)\n",
    "\n",
    "        # One-hot encode target class\n",
    "        target = torch.zeros(1, 10, device=self.device)\n",
    "        target[0, self.target_class] = 1\n",
    "\n",
    "        losses = []\n",
    "\n",
    "        for i in range(num_iter):\n",
    "            optimizer.zero_grad()\n",
    "\n",
    "            classification_loss = 0\n",
    "            for model in self.loaded_models:\n",
    "                pred = model(recovered_image)\n",
    "                classification_loss += -torch.sum(target * torch.log(pred + 1e-10))\n",
    "\n",
    "            # Average the classification loss\n",
    "            classification_loss /= len(self.loaded_models)\n",
    "\n",
    "            # Total variation regularization\n",
    "            tv_loss = torch.sum(torch.abs(recovered_image[:, :, :, :-1] - recovered_image[:, :, :, 1:])) + \\\n",
    "                      torch.sum(torch.abs(recovered_image[:, :, :-1, :] - recovered_image[:, :, 1:, :]))\n",
    "            tv_loss = tv_loss * reg_param\n",
    "\n",
    "            # L2 regularization\n",
    "            l2_loss = torch.sum(recovered_image ** 2) * 0.001\n",
    "\n",
    "            # Combine all losses\n",
    "            total_loss = classification_loss + tv_loss + l2_loss\n",
    "\n",
    "            # Backpropagate and update\n",
    "            total_loss.backward()\n",
    "            optimizer.step()\n",
    "\n",
    "            # Clamp values to valid image range\n",
    "            with torch.no_grad():\n",
    "                recovered_image.clamp_(0, 1)\n",
    "\n",
    "            # Log progress\n",
    "            if i % 400 == 0:\n",
    "                losses.append(classification_loss.item())\n",
    "                print(f\"[{i}, {classification_loss.item():.4f}]\")\n",
    "\n",
    "        # Convert final result to numpy array\n",
    "        with torch.no_grad():\n",
    "            recovered_image_np = recovered_image.cpu().numpy()\n",
    "\n",
    "        options = {\n",
    "            'losses': losses,\n",
    "            'target_class': self.target_class,\n",
    "            'device': self.device,\n",
    "            'num_iter': num_iter,\n",
    "            'lr': lr,\n",
    "            'reg_param': reg_param\n",
    "        }\n",
    "\n",
    "        return recovered_image_np, options\n",
    "\n",
    "    def perform_attack(self, epochs=1000, lr=0.01, reg_param=0.01):\n",
    "        model = CNN().to(self.device)\n",
    "        model.load_state_dict({k: v.to(self.device) for k, v in self.model_params.items()})\n",
    "        model.eval()\n",
    "\n",
    "        recovered_image = torch.rand(1, 1, 28, 28, requires_grad=True, device=self.device)\n",
    "\n",
    "        optimizer = optim.Adam([recovered_image], lr=lr)\n",
    "\n",
    "        target = torch.zeros(1, 10, device=self.device)\n",
    "        target[0, self.target_class] = 1\n",
    "\n",
    "        losses = []\n",
    "\n",
    "        for i in range(epochs):\n",
    "            optimizer.zero_grad()\n",
    "\n",
    "            pred = model(recovered_image)\n",
    "\n",
    "            classification_loss = -torch.sum(target * torch.log(pred + 1e-10))\n",
    "\n",
    "            tv_loss = torch.sum(torch.abs(recovered_image[:, :, :, :-1] - recovered_image[:, :, :, 1:])) + \\\n",
    "                    torch.sum(torch.abs(recovered_image[:, :, :-1, :] - recovered_image[:, :, 1:, :]))\n",
    "            tv_loss = tv_loss * reg_param\n",
    "\n",
    "            l2_loss = torch.sum(recovered_image ** 2) * 0.001\n",
    "\n",
    "            total_loss = classification_loss + tv_loss + l2_loss\n",
    "\n",
    "            total_loss.backward()\n",
    "            optimizer.step()\n",
    "\n",
    "            with torch.no_grad():\n",
    "                recovered_image.clamp_(0, 1)\n",
    "\n",
    "            if i % 800 == 0:\n",
    "                losses.append(classification_loss.item())\n",
    "                print(f\"[{i}, {classification_loss.item():.4f}]\")\n",
    "\n",
    "        with torch.no_grad():\n",
    "            recovered_image_np = recovered_image.cpu().numpy()\n",
    "\n",
    "        return recovered_image_np, losses"
   ]
  },
  {
   "cell_type": "markdown",
   "id": "513e3101",
   "metadata": {},
   "source": [
    "## Attack and Analysis\n",
    "\n",
    "The following code block contains the creation and execution of the inversion attack class."
   ]
  },
  {
   "cell_type": "code",
   "execution_count": 13,
   "id": "5f6ba266",
   "metadata": {},
   "outputs": [
    {
     "name": "stdout",
     "output_type": "stream",
     "text": [
      "Successfully loaded models!\n"
     ]
    }
   ],
   "source": [
    "def load_models(device='cpu'):\n",
    "    if not os.path.exists('../models/mlp_model.pth') or not os.path.exists('../models/clients/model-0.pth'):\n",
    "        print('Missing required model files.')\n",
    "        return None, None\n",
    "\n",
    "    mlp_model = MLP()\n",
    "    mlp_model.load_state_dict(torch.load('../models/mlp_model.pth'))\n",
    "    mlp_model.to(device)\n",
    "    mlp_model.eval()\n",
    "\n",
    "    cnn_models = []\n",
    "    index = 0\n",
    "\n",
    "    while True:\n",
    "        model_path = os.path.join('../models/clients', f'model-{index}.pth')\n",
    "        if not os.path.exists(model_path):\n",
    "            break\n",
    "\n",
    "        model = CNN()\n",
    "        state_dict = torch.load(model_path)\n",
    "        model.load_state_dict(state_dict)\n",
    "        model.to(device)\n",
    "        model.eval()\n",
    "\n",
    "        cnn_models.append(model)\n",
    "        index += 1\n",
    "\n",
    "    return mlp_model, cnn_models\n",
    "\n",
    "device = ('mps' if torch.mps.is_available() else 'cpu')\n",
    "mlp_model, cnn_models = load_models(device)\n",
    "\n",
    "print('Successfully loaded models!')"
   ]
  },
  {
   "cell_type": "code",
   "execution_count": 15,
   "id": "27435ad8",
   "metadata": {},
   "outputs": [
    {
     "name": "stderr",
     "output_type": "stream",
     "text": [
      "/Users/lucastheliu/Projects/research/.venv/lib/python3.13/site-packages/torch/nn/functional.py:1538: UserWarning: dropout2d: Received a 2-D input to dropout2d, which is deprecated and will result in an error in a future release. To retain the behavior and silence this warning, please use dropout instead. Note that dropout2d exists to provide channel-wise dropout on inputs with 2 spatial dimensions, a channel dimension, and an optional batch dimension (i.e. 3D or 4D inputs).\n",
      "  warnings.warn(warn_msg)\n"
     ]
    },
    {
     "name": "stdout",
     "output_type": "stream",
     "text": [
      "[0, 2.3767]\n"
     ]
    },
    {
     "data": {
      "image/png": "[encoded data removed]",
      "text/plain": [
       "<Figure size 640x480 with 1 Axes>"
      ]
     },
     "metadata": {},
     "output_type": "display_data"
    }
   ],
   "source": [
    "train_loader, test_loader = get_mnist_loader()\n",
    "\n",
    "attack = InversionAttack(\n",
    "    loaded_models=cnn_models,\n",
    "    target_class=0,\n",
    "    device=device\n",
    ")\n",
    "\n",
    "result, options = attack.perform_multimodel_attack(\n",
    "    num_iter=400,\n",
    "    lr=0.1,\n",
    "    reg_param=1e-4\n",
    ")\n",
    "\n",
    "image = np.squeeze(result)\n",
    "plt.imshow(image, cmap='gray')\n",
    "plt.title(f'Reconstructed Image ({options['target_class']})')\n",
    "plt.axis('off')\n",
    "plt.show()"
   ]
  }
 ],
 "metadata": {
  "kernelspec": {
   "display_name": ".venv",
   "language": "python",
   "name": "python3"
  },
  "language_info": {
   "codemirror_mode": {
    "name": "ipython",
    "version": 3
   },
   "file_extension": ".py",
   "mimetype": "text/x-python",
   "name": "python",
   "nbconvert_exporter": "python",
   "pygments_lexer": "ipython3",
   "version": "3.13.5"
  }
 },
 "nbformat": 4,
 "nbformat_minor": 5
}
